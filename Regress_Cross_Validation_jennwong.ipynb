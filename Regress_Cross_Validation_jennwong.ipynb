{
 "cells": [
  {
   "cell_type": "markdown",
   "metadata": {},
   "source": [
    "## This is my attempt at Regress Cross Validation YAY"
   ]
  },
  {
   "cell_type": "code",
   "execution_count": 2,
   "metadata": {},
   "outputs": [
    {
     "name": "stderr",
     "output_type": "stream",
     "text": [
      "/Users/jennwon/anaconda3/lib/python3.6/site-packages/statsmodels/compat/pandas.py:56: FutureWarning: The pandas.core.datetools module is deprecated and will be removed in a future version. Please use the pandas.tseries module instead.\n",
      "  from pandas.core import datetools\n",
      "/Users/jennwon/anaconda3/lib/python3.6/site-packages/sklearn/cross_validation.py:41: DeprecationWarning: This module was deprecated in version 0.18 in favor of the model_selection module into which all the refactored classes and functions are moved. Also note that the interface of the new CV iterators are different from that of this module. This module will be removed in 0.20.\n",
      "  \"This module will be removed in 0.20.\", DeprecationWarning)\n"
     ]
    }
   ],
   "source": [
    "# all of the imports\n",
    "import pandas as pd\n",
    "import numpy as np\n",
    "import pickle \n",
    "import patsy\n",
    "import statsmodels.api as sm\n",
    "import statsmodels.formula.api as smf\n",
    "import matplotlib.pyplot as plt\n",
    "import seaborn as sns\n",
    "from sklearn.linear_model import LinearRegression\n",
    "from sklearn import metrics\n",
    "from sklearn.preprocessing import PolynomialFeatures\n",
    "from sklearn.pipeline import make_pipeline\n",
    "from sklearn.cross_validation import train_test_split\n",
    "from sklearn.cross_validation import KFold\n",
    "% matplotlib inline\n",
    "\n",
    "import warnings\n",
    "warnings.filterwarnings('ignore')"
   ]
  },
  {
   "cell_type": "code",
   "execution_count": 17,
   "metadata": {},
   "outputs": [
    {
     "data": {
      "text/plain": [
       "Index(['artist', 'danceability', 'energy', 'genre', 'key', 'liveness', 'mode',\n",
       "       'popularity', 'song', 'speechiness', 'tempo', 'valence', 'num_weeks',\n",
       "       'is_rock', 'is_hiphop', 'is_country', 'is_pop', 'is_edm', 'key_0',\n",
       "       'key_1', 'key_2', 'key_3', 'key_4', 'key_5', 'key_6', 'key_7', 'key_8',\n",
       "       'key_9', 'key_10'],\n",
       "      dtype='object')"
      ]
     },
     "execution_count": 17,
     "metadata": {},
     "output_type": "execute_result"
    }
   ],
   "source": [
    "dataset = pd.read_pickle('Modeling/dataset_used_for_modeling.pkl')\n",
    "dataset.columns"
   ]
  },
  {
   "cell_type": "markdown",
   "metadata": {},
   "source": [
    "# Cross Validation with sklearn!"
   ]
  },
  {
   "cell_type": "code",
   "execution_count": 32,
   "metadata": {},
   "outputs": [
    {
     "name": "stdout",
     "output_type": "stream",
     "text": [
      "(array([ 36.53955092]), array([  1.52554103e-09]))\n",
      "(array([ 0.31044191]), array([ 0.57741608]))\n",
      "(array([ 33.83664076]), array([  6.09571608e-09]))\n",
      "(array([ 7.54988548]), array([ 0.00600737]))\n",
      "(array([ 342.39898428]), array([  9.68406679e-76]))\n",
      "(array([ 4.7996587]), array([ 0.02847817]))\n",
      "(array([ 0.14482416]), array([ 0.70353598]))\n",
      "(array([ 0.41190587]), array([ 0.52101193]))\n",
      "(array([ 0.01313449]), array([ 0.90875886]))\n",
      "(array([ 128.87605349]), array([  9.11797704e-30]))\n",
      "(array([ 140.56554276]), array([  2.64244323e-32]))\n",
      "(array([ 213.3210662]), array([  4.88319198e-48]))\n",
      "(array([ 190.94662957]), array([  3.28672441e-43]))\n",
      "(array([ 0.04639759]), array([ 0.82945715]))\n",
      "(array([ 0.77672974]), array([ 0.37815496]))\n",
      "(array([ 0.06573454]), array([ 0.7976546]))\n",
      "(array([ 0.06367305]), array([ 0.80078487]))\n",
      "(array([ 2.02324196]), array([ 0.15492546]))\n",
      "(array([ 1.93004974]), array([ 0.16477022]))\n",
      "(array([ 0.70861701]), array([ 0.39991452]))\n",
      "(array([ 1.43806091]), array([ 0.2304692]))\n",
      "(array([ 5.97117008]), array([ 0.01455118]))\n",
      "(array([ 2.43044298]), array([ 0.11901688]))\n",
      "(array([ 1.06018882]), array([ 0.30318598]))\n"
     ]
    },
    {
     "data": {
      "text/plain": [
       "0.033451070866570995"
      ]
     },
     "execution_count": 32,
     "metadata": {},
     "output_type": "execute_result"
    }
   ],
   "source": [
    "y = dataset.num_weeks\n",
    "X=dataset.drop(['num_weeks', 'artist', 'song', 'genre', 'key'],1)\n",
    "#print(X, y)\n",
    "\n",
    "# model= LinearRegression()\n",
    "# model.fit(X,y)\n",
    "# model.score(X,y)\n",
    "est=LinearRegression()\n",
    "from sklearn import feature_selection as f_select\n",
    "\n",
    "sig_columns=[]\n",
    "pvals=[] # will be the list of all significant columns' p-values\n",
    "\n",
    "for feature in X.columns:\n",
    "    #get pval on feature by feature basis\n",
    "    pval=f_select.f_regression(X[[feature]],y) # gets f-value and p-value\n",
    "    print(pval)\n",
    "    if pval[1][0]<.02: \n",
    "        sig_columns.append(feature)\n",
    "        pvals.append(pval[1][0])\n",
    "        \n",
    "X_trans=X[sig_columns]\n",
    "cross_val_score(est,X_trans,y,cv=5,scoring='r2').mean()"
   ]
  },
  {
   "cell_type": "markdown",
   "metadata": {},
   "source": [
    "#### Regression with s k l e a r n"
   ]
  },
  {
   "cell_type": "code",
   "execution_count": 37,
   "metadata": {},
   "outputs": [
    {
     "data": {
      "text/plain": [
       "0.031064001490851423"
      ]
     },
     "execution_count": 37,
     "metadata": {},
     "output_type": "execute_result"
    }
   ],
   "source": [
    "lr = LinearRegression()\n",
    "# INSTRUCTOR NOTE: Run this multiple times to show the variation\n",
    "# Split the data into training and test sets\n",
    "X_train, X_test, y_train, y_test = train_test_split(X, y, test_size=0.3)\n",
    "# test_df = X_train.join(y_train)\n",
    "# # Fit the model against the training data\n",
    "lr.fit(X_train, y_train)\n",
    "# # Evaluate the model against the testing data\n",
    "lr.score(X_test, y_test)"
   ]
  },
  {
   "cell_type": "code",
   "execution_count": 29,
   "metadata": {},
   "outputs": [
    {
     "data": {
      "text/plain": [
       "0.03653366369845068"
      ]
     },
     "execution_count": 29,
     "metadata": {},
     "output_type": "execute_result"
    }
   ],
   "source": [
    "lr1 = LinearRegression()\n",
    "lr1.fit(X, y)\n",
    "lr1.score(X, y)"
   ]
  },
  {
   "cell_type": "code",
   "execution_count": 30,
   "metadata": {},
   "outputs": [],
   "source": [
    "from sklearn.cross_validation import cross_val_score"
   ]
  },
  {
   "cell_type": "code",
   "execution_count": 31,
   "metadata": {},
   "outputs": [
    {
     "name": "stdout",
     "output_type": "stream",
     "text": [
      "[ 0.44115951  0.56416623  0.44965409  0.42711496  0.46732698  0.40111895\n",
      "  0.52211021  0.5157325   0.48004239  0.52250088]\n"
     ]
    }
   ],
   "source": [
    "# 10-fold cross-validation with our fake data\n",
    "reg = LinearRegression()\n",
    "scores = cross_val_score(reg, X, y, cv=10, scoring='mean_squared_error')\n",
    "\n",
    "# scores output is negative, a sklearn quirk bc mse is used to min. optimization func.\n",
    "print(-scores)"
   ]
  },
  {
   "cell_type": "code",
   "execution_count": 33,
   "metadata": {
    "collapsed": true
   },
   "outputs": [],
   "source": [
    "from sklearn.preprocessing import PolynomialFeatures\n",
    "from sklearn.pipeline import make_pipeline\n"
   ]
  },
  {
   "cell_type": "code",
   "execution_count": null,
   "metadata": {
    "collapsed": true
   },
   "outputs": [],
   "source": []
  }
 ],
 "metadata": {
  "kernelspec": {
   "display_name": "Python 3",
   "language": "python",
   "name": "python3"
  },
  "language_info": {
   "codemirror_mode": {
    "name": "ipython",
    "version": 3
   },
   "file_extension": ".py",
   "mimetype": "text/x-python",
   "name": "python",
   "nbconvert_exporter": "python",
   "pygments_lexer": "ipython3",
   "version": "3.6.3"
  }
 },
 "nbformat": 4,
 "nbformat_minor": 2
}
