{
 "cells": [
  {
   "cell_type": "markdown",
   "metadata": {},
   "source": [
    "## Working with the Kaggle Database"
   ]
  },
  {
   "cell_type": "code",
   "execution_count": 5,
   "metadata": {
    "collapsed": true
   },
   "outputs": [],
   "source": [
    "import pandas as pd\n",
    "from glob import glob\n",
    "import seaborn as sns\n",
    "import matplotlib.pyplot as plt "
   ]
  },
  {
   "cell_type": "code",
   "execution_count": 6,
   "metadata": {},
   "outputs": [],
   "source": [
    "#song_file = pd.HDFStore('kaggle_sample_data_1.h5')\n",
    "file_paths = glob('MillionSongSubset/data/**/*.h5', recursive=True) #got 10,000 song paths yay!\n",
    "\n",
    "#keys return a dataframe of one row for all those columns\n",
    "\n",
    "\n",
    "#problem: only does returns the data frame for the first song\n",
    "def get_kaggle(path_list):\n",
    "    df = pd.DataFrame() #initiate empty data frame to return with all songs\n",
    "    #for every file path i want to get the song into a data frame\n",
    "    for path in path_list:\n",
    "        file = pd.HDFStore('MillionSongSubset/AdditionalFiles/subset_msd_summary_file.h5') #need to open the file from path\n",
    "        #need to get the dataframe for every song's key to be concat together into one dataframe\n",
    "        file_df = pd.DataFrame()\n",
    "        for key in file.keys():\n",
    "            file_df = pd.concat([file_df, file[key]], axis = 1) #puts everything into a row for the song\n",
    "        df = df.append(file_df)\n",
    "        unwanted_columns = ['analysis_sample_rate','analyzer_version', 'artist_7digitalid','artist_familiarity',\n",
    "                            'artist_id','artist_latitude','artist_longitude','artist_mbid',\n",
    "                            'artist_playmeid','audio_md5','bars_confidence','bars_start','beats_confidence',\n",
    "                            'beats_start','end_of_fade_in','idx_bars_confidence','idx_bars_start','idx_beats_confidence',\n",
    "                            'idx_sections_confidence','idx_sections_start','idx_segments_confidence',\n",
    "                            'idx_artist_terms','idx_artist_mbtags','energy','danceability',\n",
    "                            'idx_segments_loudness_max','idx_segments_loudness_max_time','idx_segments_pitches',\n",
    "                            'idx_segments_start','idx_similar_artists','idx_tatums_confidence','key_confidence',\n",
    "                            'idx_beats_start','idx_segments_loudness_start', 'idx_segments_timbre','idx_tatums_start',\n",
    "                            'mode','mode_confidence','release','release_7digitalid','sections_confidence',\n",
    "                            'sections_start','segments_confidence','segments_loudness_max','segments_loudness_max_time',\n",
    "                            'segments_loudness_start','segments_pitches','segments_start','segments_timbre',\n",
    "                            'similar_artists','song_id','start_of_fade_out','tatums_confidence','tatums_start',\n",
    "                            'time_signature_confidence','track_7digitalid','track_id']\n",
    "        df.drop(unwanted_columns, errors = 'ignore', inplace = True, axis = 1)\n",
    "        file.close()\n",
    "        return df\n"
   ]
  },
  {
   "cell_type": "code",
   "execution_count": 11,
   "metadata": {
    "collapsed": true
   },
   "outputs": [],
   "source": [
    "\n",
    "#! MillionSongSubset/data/A/R/R/TRARRZU128F4253CA2.h5'\n",
    "#get_kaggle(file_paths)"
   ]
  },
  {
   "cell_type": "code",
   "execution_count": 2,
   "metadata": {},
   "outputs": [
    {
     "name": "stderr",
     "output_type": "stream",
     "text": [
      "/Users/jennwon/anaconda3/lib/python3.6/site-packages/statsmodels/compat/pandas.py:56: FutureWarning: The pandas.core.datetools module is deprecated and will be removed in a future version. Please use the pandas.tseries module instead.\n",
      "  from pandas.core import datetools\n"
     ]
    }
   ],
   "source": [
    "# Python 2 & 3 Compatibility\n",
    "from __future__ import print_function, division\n",
    "\n",
    "# Necessary imports\n",
    "import pandas as pd\n",
    "import numpy as np\n",
    "import statsmodels.api as sm\n",
    "import statsmodels.formula.api as smf\n",
    "import patsy\n",
    "\n",
    "import seaborn as sns\n",
    "import matplotlib.pyplot as plt\n",
    "from sklearn.linear_model import LinearRegression\n",
    "from sklearn.linear_model import RidgeCV\n",
    "%matplotlib inline"
   ]
  },
  {
   "cell_type": "code",
   "execution_count": 3,
   "metadata": {
    "scrolled": true
   },
   "outputs": [
    {
     "ename": "NameError",
     "evalue": "name 'get_kaggle' is not defined",
     "output_type": "error",
     "traceback": [
      "\u001b[0;31m---------------------------------------------------------------------------\u001b[0m",
      "\u001b[0;31mNameError\u001b[0m                                 Traceback (most recent call last)",
      "\u001b[0;32m<ipython-input-3-479589066210>\u001b[0m in \u001b[0;36m<module>\u001b[0;34m()\u001b[0m\n\u001b[0;32m----> 1\u001b[0;31m \u001b[0mkaggle_df\u001b[0m \u001b[0;34m=\u001b[0m \u001b[0mget_kaggle\u001b[0m\u001b[0;34m(\u001b[0m\u001b[0;34m[\u001b[0m\u001b[0;34m'MillionSongSubset/AdditionalFiles/subset_msd_summary_file.h5'\u001b[0m\u001b[0;34m]\u001b[0m\u001b[0;34m)\u001b[0m\u001b[0;34m\u001b[0m\u001b[0m\n\u001b[0m",
      "\u001b[0;31mNameError\u001b[0m: name 'get_kaggle' is not defined"
     ]
    }
   ],
   "source": [
    "kaggle_df = get_kaggle(['MillionSongSubset/AdditionalFiles/subset_msd_summary_file.h5'])"
   ]
  },
  {
   "cell_type": "code",
   "execution_count": null,
   "metadata": {},
   "outputs": [],
   "source": [
    "kaggle_heatmap = sns.heatmap(kaggle_df.corr())\n",
    "\n",
    "fig = kaggle_heatmap.get_figure()\n",
    "fig.savefig('kaggle_heatmap.png', dpi=300) "
   ]
  },
  {
   "cell_type": "markdown",
   "metadata": {
    "collapsed": true
   },
   "source": [
    "## I have the complete data frame from Billboards now!"
   ]
  },
  {
   "cell_type": "code",
   "execution_count": 1,
   "metadata": {},
   "outputs": [
    {
     "ename": "NameError",
     "evalue": "name 'pd' is not defined",
     "output_type": "error",
     "traceback": [
      "\u001b[0;31m---------------------------------------------------------------------------\u001b[0m",
      "\u001b[0;31mNameError\u001b[0m                                 Traceback (most recent call last)",
      "\u001b[0;32m<ipython-input-1-37f3d6e4f9d3>\u001b[0m in \u001b[0;36m<module>\u001b[0;34m()\u001b[0m\n\u001b[0;32m----> 1\u001b[0;31m \u001b[0mcomplete_df\u001b[0m \u001b[0;34m=\u001b[0m \u001b[0mpd\u001b[0m\u001b[0;34m.\u001b[0m\u001b[0mread_pickle\u001b[0m\u001b[0;34m(\u001b[0m\u001b[0;34m'complete_df.pkl'\u001b[0m\u001b[0;34m)\u001b[0m\u001b[0;34m\u001b[0m\u001b[0m\n\u001b[0m\u001b[1;32m      2\u001b[0m \u001b[0mcomplete_df\u001b[0m\u001b[0;34m.\u001b[0m\u001b[0mcolumns\u001b[0m \u001b[0;34m=\u001b[0m \u001b[0mcomplet_df\u001b[0m\u001b[0;34m.\u001b[0m\u001b[0mcolumns\u001b[0m\u001b[0;34m.\u001b[0m\u001b[0mmap\u001b[0m\u001b[0;34m(\u001b[0m\u001b[0mstr\u001b[0m\u001b[0;34m.\u001b[0m\u001b[0mstrip\u001b[0m\u001b[0;34m)\u001b[0m\u001b[0;34m\u001b[0m\u001b[0m\n\u001b[1;32m      3\u001b[0m \u001b[0;34m\u001b[0m\u001b[0m\n\u001b[1;32m      4\u001b[0m \u001b[0mkaggle_df\u001b[0m\u001b[0;34m.\u001b[0m\u001b[0mrename\u001b[0m\u001b[0;34m(\u001b[0m\u001b[0mcolumns\u001b[0m \u001b[0;34m=\u001b[0m \u001b[0;34m{\u001b[0m\u001b[0;34m'artist_name'\u001b[0m\u001b[0;34m:\u001b[0m \u001b[0;34m'artist'\u001b[0m\u001b[0;34m,\u001b[0m \u001b[0;34m'title'\u001b[0m\u001b[0;34m:\u001b[0m \u001b[0;34m'song'\u001b[0m\u001b[0;34m}\u001b[0m\u001b[0;34m,\u001b[0m \u001b[0minplace\u001b[0m \u001b[0;34m=\u001b[0m \u001b[0;32mTrue\u001b[0m\u001b[0;34m)\u001b[0m\u001b[0;34m\u001b[0m\u001b[0m\n\u001b[1;32m      5\u001b[0m \u001b[0;34m\u001b[0m\u001b[0m\n",
      "\u001b[0;31mNameError\u001b[0m: name 'pd' is not defined"
     ]
    }
   ],
   "source": [
    "complete_df = pd.read_pickle('complete_df.pkl')\n",
    "complete_df.columns = complet_df.columns.map(str.strip)\n",
    "\n",
    "kaggle_df.rename(columns = {'artist_name': 'artist', 'title': 'song'}, inplace = True)\n",
    "\n",
    "counts = pd.DataFrame(complete_df.groupby(['Artist','Song']).size())\n",
    "counts.reset_index(inplace = True)\n"
   ]
  },
  {
   "cell_type": "markdown",
   "metadata": {},
   "source": [
    "## Now I want to be able to merge this dataset with Kaggle based on the song and artist indexes"
   ]
  },
  {
   "cell_type": "code",
   "execution_count": 16,
   "metadata": {
    "collapsed": true
   },
   "outputs": [],
   "source": [
    "merged = kaggle_df.merge(counts)\n",
    "merged.rename(columns = {merged.columns[-1]: 'num_weeks'}, inplace = True)\n"
   ]
  },
  {
   "cell_type": "code",
   "execution_count": 19,
   "metadata": {},
   "outputs": [
    {
     "data": {
      "text/plain": [
       "num_weeks            1.000000\n",
       "key                  0.349771\n",
       "artist_hotttnesss    0.139466\n",
       "duration             0.022959\n",
       "tempo               -0.031168\n",
       "loudness            -0.043225\n",
       "time_signature      -0.134513\n",
       "year                -0.185567\n",
       "song_hotttnesss     -0.270984\n",
       "Name: num_weeks, dtype: float64"
      ]
     },
     "execution_count": 19,
     "metadata": {},
     "output_type": "execute_result"
    },
    {
     "data": {
      "image/png": "[encoded data removed]",
      "text/plain": [
       "<matplotlib.figure.Figure at 0x10b4175f8>"
      ]
     },
     "metadata": {},
     "output_type": "display_data"
    }
   ],
   "source": [
    "kaggle_heatmap = sns.heatmap(merged.corr())\n",
    "fig = kaggle_heatmap.get_figure()\n",
    "fig.savefig('kaggle_heatmap_with_weeks.png', dpi=1000) \n",
    "\n",
    "correlation = merged.corr()\n",
    "correlation.num_weeks.sort_values(ascending = False)"
   ]
  },
  {
   "cell_type": "code",
   "execution_count": 20,
   "metadata": {
    "collapsed": true
   },
   "outputs": [],
   "source": [
    "merged.to_pickle('kaggled_merged_with_billboard.pkl')"
   ]
  },
  {
   "cell_type": "code",
   "execution_count": null,
   "metadata": {
    "collapsed": true
   },
   "outputs": [],
   "source": []
  }
 ],
 "metadata": {
  "kernelspec": {
   "display_name": "Python 3",
   "language": "python",
   "name": "python3"
  },
  "language_info": {
   "codemirror_mode": {
    "name": "ipython",
    "version": 3
   },
   "file_extension": ".py",
   "mimetype": "text/x-python",
   "name": "python",
   "nbconvert_exporter": "python",
   "pygments_lexer": "ipython3",
   "version": "3.6.3"
  }
 },
 "nbformat": 4,
 "nbformat_minor": 2
}
