{
 "cells": [
  {
   "cell_type": "markdown",
   "metadata": {},
   "source": [
    "## Finally able to do some modelling"
   ]
  },
  {
   "cell_type": "code",
   "execution_count": 74,
   "metadata": {},
   "outputs": [],
   "source": [
    "import statsmodels.api as sm\n",
    "import pandas as pd\n",
    "import numpy as np\n",
    "import matplotlib \n",
    "import matplotlib.pyplot as plt\n",
    "from sklearn.linear_model import LinearRegression\n",
    "import statsmodels.api as sm\n",
    "import statsmodels.formula.api as smf\n",
    "import patsy\n",
    "#import diagnostic_plots\n",
    "\n",
    "import seaborn as sns\n",
    "import matplotlib.pyplot as plt\n",
    "from sklearn.linear_model import LinearRegression\n",
    "from sklearn.linear_model import RidgeCV\n",
    "\n",
    "\n",
    "%matplotlib inline\n",
    "#note to self, i want all the songs without any weeks because that means those are unpopular songs which are important!\n",
    "#sm.OLS(y_values, sm.add_constant(x_values)).fit().summary()\n"
   ]
  },
  {
   "cell_type": "code",
   "execution_count": 75,
   "metadata": {},
   "outputs": [
    {
     "data": {
      "text/plain": [
       "<matplotlib.axes._subplots.AxesSubplot at 0x1c1413aac8>"
      ]
     },
     "execution_count": 75,
     "metadata": {},
     "output_type": "execute_result"
    },
    {
     "data": {
      "image/png": "[encoded data removed]",
      "text/plain": [
       "<matplotlib.figure.Figure at 0x1c13a234a8>"
      ]
     },
     "metadata": {},
     "output_type": "display_data"
    }
   ],
   "source": [
    "df = pd.read_pickle('kaggled_merged_with_billboard.pkl')\n",
    "#print(df.columns)\n",
    "\n",
    "#need to figure out what 'key' is supposed to represent\n",
    "#I think it would be a good idea to get a visual plot\n",
    "\n",
    "#pairplot only works with float and int values, so i need to make sure if i have any strings present in the data set\n",
    "df.corr()\n",
    "sns.heatmap(df.corr(), cmap = 'bone')\n",
    "\n",
    "\n",
    "#sns.pairplot(df, size = 1.2, aspect=1.5);"
   ]
  },
  {
   "cell_type": "code",
   "execution_count": 76,
   "metadata": {},
   "outputs": [
    {
     "data": {
      "text/html": [
       "<table class=\"simpletable\">\n",
       "<caption>OLS Regression Results</caption>\n",
       "<tr>\n",
       "  <th>Dep. Variable:</th>        <td>num_weeks</td>    <th>  R-squared:         </th> <td>   0.122</td>\n",
       "</tr>\n",
       "<tr>\n",
       "  <th>Model:</th>                   <td>OLS</td>       <th>  Adj. R-squared:    </th> <td>   0.109</td>\n",
       "</tr>\n",
       "<tr>\n",
       "  <th>Method:</th>             <td>Least Squares</td>  <th>  F-statistic:       </th> <td>   9.479</td>\n",
       "</tr>\n",
       "<tr>\n",
       "  <th>Date:</th>             <td>Fri, 13 Jul 2018</td> <th>  Prob (F-statistic):</th>  <td>0.00300</td>\n",
       "</tr>\n",
       "<tr>\n",
       "  <th>Time:</th>                 <td>07:08:10</td>     <th>  Log-Likelihood:    </th> <td> -265.50</td>\n",
       "</tr>\n",
       "<tr>\n",
       "  <th>No. Observations:</th>      <td>    70</td>      <th>  AIC:               </th> <td>   535.0</td>\n",
       "</tr>\n",
       "<tr>\n",
       "  <th>Df Residuals:</th>          <td>    68</td>      <th>  BIC:               </th> <td>   539.5</td>\n",
       "</tr>\n",
       "<tr>\n",
       "  <th>Df Model:</th>              <td>     1</td>      <th>                     </th>     <td> </td>   \n",
       "</tr>\n",
       "<tr>\n",
       "  <th>Covariance Type:</th>      <td>nonrobust</td>    <th>                     </th>     <td> </td>   \n",
       "</tr>\n",
       "</table>\n",
       "<table class=\"simpletable\">\n",
       "<tr>\n",
       "    <td></td>       <th>coef</th>     <th>std err</th>      <th>t</th>      <th>P>|t|</th>  <th>[0.025</th>    <th>0.975]</th>  \n",
       "</tr>\n",
       "<tr>\n",
       "  <th>const</th> <td>   13.6706</td> <td>    2.181</td> <td>    6.268</td> <td> 0.000</td> <td>    9.318</td> <td>   18.023</td>\n",
       "</tr>\n",
       "<tr>\n",
       "  <th>key</th>   <td>    0.9923</td> <td>    0.322</td> <td>    3.079</td> <td> 0.003</td> <td>    0.349</td> <td>    1.635</td>\n",
       "</tr>\n",
       "</table>\n",
       "<table class=\"simpletable\">\n",
       "<tr>\n",
       "  <th>Omnibus:</th>       <td> 2.017</td> <th>  Durbin-Watson:     </th> <td>   1.958</td>\n",
       "</tr>\n",
       "<tr>\n",
       "  <th>Prob(Omnibus):</th> <td> 0.365</td> <th>  Jarque-Bera (JB):  </th> <td>   1.715</td>\n",
       "</tr>\n",
       "<tr>\n",
       "  <th>Skew:</th>          <td> 0.383</td> <th>  Prob(JB):          </th> <td>   0.424</td>\n",
       "</tr>\n",
       "<tr>\n",
       "  <th>Kurtosis:</th>      <td> 2.968</td> <th>  Cond. No.          </th> <td>    11.5</td>\n",
       "</tr>\n",
       "</table>"
      ],
      "text/plain": [
       "<class 'statsmodels.iolib.summary.Summary'>\n",
       "\"\"\"\n",
       "                            OLS Regression Results                            \n",
       "==============================================================================\n",
       "Dep. Variable:              num_weeks   R-squared:                       0.122\n",
       "Model:                            OLS   Adj. R-squared:                  0.109\n",
       "Method:                 Least Squares   F-statistic:                     9.479\n",
       "Date:                Fri, 13 Jul 2018   Prob (F-statistic):            0.00300\n",
       "Time:                        07:08:10   Log-Likelihood:                -265.50\n",
       "No. Observations:                  70   AIC:                             535.0\n",
       "Df Residuals:                      68   BIC:                             539.5\n",
       "Df Model:                           1                                         \n",
       "Covariance Type:            nonrobust                                         \n",
       "==============================================================================\n",
       "                 coef    std err          t      P>|t|      [0.025      0.975]\n",
       "------------------------------------------------------------------------------\n",
       "const         13.6706      2.181      6.268      0.000       9.318      18.023\n",
       "key            0.9923      0.322      3.079      0.003       0.349       1.635\n",
       "==============================================================================\n",
       "Omnibus:                        2.017   Durbin-Watson:                   1.958\n",
       "Prob(Omnibus):                  0.365   Jarque-Bera (JB):                1.715\n",
       "Skew:                           0.383   Prob(JB):                        0.424\n",
       "Kurtosis:                       2.968   Cond. No.                         11.5\n",
       "==============================================================================\n",
       "\n",
       "Warnings:\n",
       "[1] Standard Errors assume that the covariance matrix of the errors is correctly specified.\n",
       "\"\"\""
      ]
     },
     "execution_count": 76,
     "metadata": {},
     "output_type": "execute_result"
    }
   ],
   "source": [
    "#modeling with statsmodels\n",
    "\n",
    "sm.OLS(df.num_weeks, sm.add_constant(df.key)).fit().summary()"
   ]
  },
  {
   "cell_type": "code",
   "execution_count": 77,
   "metadata": {},
   "outputs": [],
   "source": [
    "def plot_predict_and_points(x_values, y_values, model):\n",
    "    y_predict = model.predict(x_values)\n",
    "\n",
    "    plt.plot(x_values[:,0], y_values, 'ro')\n",
    "    plt.plot(x_values[:,0], y_predict, 'b--')\n",
    "    plt.xlabel('x')\n",
    "    plt.ylabel('y')\n",
    "    \n",
    "#plot_predict_and_points(x_values, y_values, linear_model)\n",
    "#plt.title('This IS the line that best fits the data');"
   ]
  },
  {
   "cell_type": "code",
   "execution_count": 78,
   "metadata": {},
   "outputs": [
    {
     "name": "stderr",
     "output_type": "stream",
     "text": [
      "/Users/jennwon/anaconda3/lib/python3.6/site-packages/ipykernel_launcher.py:2: FutureWarning: reshape is deprecated and will raise in a subsequent release. Please use .values.reshape(...) instead\n",
      "  \n",
      "/Users/jennwon/anaconda3/lib/python3.6/site-packages/ipykernel_launcher.py:3: FutureWarning: reshape is deprecated and will raise in a subsequent release. Please use .values.reshape(...) instead\n",
      "  This is separate from the ipykernel package so we can avoid doing imports until\n",
      "/Users/jennwon/anaconda3/lib/python3.6/site-packages/ipykernel_launcher.py:5: FutureWarning: reshape is deprecated and will raise in a subsequent release. Please use .values.reshape(...) instead\n",
      "  \"\"\"\n"
     ]
    },
    {
     "data": {
      "image/png": "[encoded data removed]",
      "text/plain": [
       "<matplotlib.figure.Figure at 0x1c150175f8>"
      ]
     },
     "metadata": {},
     "output_type": "display_data"
    }
   ],
   "source": [
    "linear_model = LinearRegression()\n",
    "linear_model.fit(df.key.reshape(-1,1), df.num_weeks)\n",
    "linear_model.score(df.key.reshape(-1,1), df.num_weeks)\n",
    "\n",
    "plot_predict_and_points(df.key.reshape(-1,1), df.num_weeks, linear_model)\n",
    "plt.title('This is NOT the line that best fits the data');\n",
    "plt.xlabel('Song Key');\n",
    "plt.ylabel('Number of Weeks on Billboard');"
   ]
  },
  {
   "cell_type": "code",
   "execution_count": 80,
   "metadata": {},
   "outputs": [
    {
     "ename": "SyntaxError",
     "evalue": "invalid syntax (<ipython-input-80-45b4d4e07b32>, line 3)",
     "output_type": "error",
     "traceback": [
      "\u001b[0;36m  File \u001b[0;32m\"<ipython-input-80-45b4d4e07b32>\"\u001b[0;36m, line \u001b[0;32m3\u001b[0m\n\u001b[0;31m    y, X = patsy.dmatrices('num_weeks' ~ 'duration' + 'key' + 'loudness' + 'tempo' +  'time_signature' +\u001b[0m\n\u001b[0m                                       ^\u001b[0m\n\u001b[0;31mSyntaxError\u001b[0m\u001b[0;31m:\u001b[0m invalid syntax\n"
     ]
    }
   ],
   "source": [
    "#print(df.columns)\n",
    "# Create your feature matrix (X) and target vector (y)\n",
    "y, X = patsy.dmatrices('num_weeks' ~ 'duration' + 'key' + 'loudness' + 'tempo' +  'time_signature' + \n",
    "                        'artist_hotttnesss' +  'artist_location' + 'Artist' + 'genre' + \n",
    "                       'song_hotttnesss' + 'Song' + 'year', data=df, return_type=\"dataframe\")\n",
    "\n",
    "# Create your model\n",
    "model = sm.OLS(y, X)\n",
    "\n",
    "# Fit your model to your training set\n",
    "fit = model.fit()\n",
    "\n",
    "# Print summary statistics of the model's performance\n",
    "fit.summary()"
   ]
  },
  {
   "cell_type": "code",
   "execution_count": null,
   "metadata": {
    "collapsed": true
   },
   "outputs": [],
   "source": []
  }
 ],
 "metadata": {
  "kernelspec": {
   "display_name": "Python 3",
   "language": "python",
   "name": "python3"
  },
  "language_info": {
   "codemirror_mode": {
    "name": "ipython",
    "version": 3
   },
   "file_extension": ".py",
   "mimetype": "text/x-python",
   "name": "python",
   "nbconvert_exporter": "python",
   "pygments_lexer": "ipython3",
   "version": "3.6.3"
  }
 },
 "nbformat": 4,
 "nbformat_minor": 2
}
