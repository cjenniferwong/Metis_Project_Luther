{
 "cells": [
  {
   "cell_type": "markdown",
   "metadata": {},
   "source": [
    "## Scrapping Billboards Weekly Top 100 Songs\n",
    "Used to be merged with Kaggle Million Song Dataset for Linear Regression Analysis"
   ]
  },
  {
   "cell_type": "code",
   "execution_count": 1,
   "metadata": {
    "collapsed": true
   },
   "outputs": [],
   "source": [
    "import h5py\n",
    "import numpy as np\n",
    "import datetime as dt\n",
    "import pandas as pd\n",
    "from time import sleep\n",
    "\n",
    "\n",
    "#did you check if there are other subcategories of top 100 chartss?\n",
    "#maybe also get streaming data of all these songs? but also need to get rate bc different amount depending on how long the song has been released\n",
    "#much of the data is coming from spotify therefore need to be aware of the consumer demographic and the bias present\n",
    "#how does billboards determine who cracks the top 100?"
   ]
  },
  {
   "cell_type": "markdown",
   "metadata": {},
   "source": [
    "## Jenn scrapes her first website <3"
   ]
  },
  {
   "cell_type": "code",
   "execution_count": 19,
   "metadata": {},
   "outputs": [],
   "source": [
    "import requests\n",
    "from bs4 import BeautifulSoup\n",
    "import pandas as pd\n",
    "\n",
    "\n",
    "def get_billboard(url_list):\n",
    "    \"\"\"\n",
    "    this function takes a list of urls and returns a data frame of that top 100 songs (names and artists)\n",
    "    \"\"\"\n",
    "    complete_df = pd.DataFrame()\n",
    "    df_list = [] #this is a going to be a list of data frames to be concat\n",
    "    for url in url_list:\n",
    "        source_code = requests.get(url)\n",
    "        soup = BeautifulSoup(source_code.text, 'html5lib')\n",
    "        top_100 = soup.find_all('div', class_='chart-row__title')\n",
    "        names = []\n",
    "        artists = []\n",
    "        for song in top_100:\n",
    "            names.append(song.find('h2').text)\n",
    "            try:\n",
    "                artist = song.find('a').text\n",
    "                artists.append(artist.replace('\\n', ''))\n",
    "            except:\n",
    "                artist = song.find('span').text\n",
    "                artists.append(artist.replace('\\n', ''))\n",
    "        #print(artist, names)\n",
    "        df_top_100 = pd.DataFrame()\n",
    "        df_top_100['Song'] = names\n",
    "        df_top_100['Artist'] = artists\n",
    "        add = url.split('/')[-1]\n",
    "        #print(df_top_100)\n",
    "        df_top_100.to_pickle(f'Jomas_Pickle/{add}.pkl')\n",
    "        df_list.append(df_top_100)\n",
    "        #break\n",
    "        sleep(1);\n",
    "    complete_df = pd.concat(df_list)\n",
    "    #print('done')\n",
    "    #print(complete_df)\n",
    "    return complete_df"
   ]
  },
  {
   "cell_type": "code",
   "execution_count": 20,
   "metadata": {},
   "outputs": [],
   "source": [
    "start_date = dt.datetime(2009,5,25)\n",
    "end_date = dt.datetime.now()\n",
    "\n",
    "def get_url(start_date, end_date):\n",
    "    url_list = []\n",
    "    #print(start_date, end_date)\n",
    "    #end_date = dt.datetime.now()\n",
    "    while start_date < end_date:\n",
    "        #print('entered')\n",
    "        url = f'https://www.billboard.com/charts/hot-100/{start_date.year}-{start_date.month:02}-{start_date.day:02}'\n",
    "        #print(url)\n",
    "        url_list.append(url)\n",
    "        start_date += dt.timedelta(days=7)\n",
    "    return url_list\n",
    "#str.split()"
   ]
  },
  {
   "cell_type": "code",
   "execution_count": 21,
   "metadata": {},
   "outputs": [],
   "source": [
    "#%%timeit #tells me that it takes 1.72 seconds to run through 5 urls\n",
    "#5.22 s for 10 urls\n",
    "#start_date = dt.datetime(1998,5,4)\n",
    "#end_date = dt.datetime.now()\n",
    "#print(start_date, end_date)\n",
    "url_list = get_url(start_date, end_date)\n",
    "#print(url_list)\n",
    "songs_df = get_billboard(url_list)\n",
    "#songs_df\n",
    "#url_list[::-1]"
   ]
  },
  {
   "cell_type": "markdown",
   "metadata": {},
   "source": [
    "## After scraping through all the web pages I want to store everything into a pickle file or csv so I don't have to do it again"
   ]
  },
  {
   "cell_type": "code",
   "execution_count": null,
   "metadata": {},
   "outputs": [],
   "source": [
    "unpickled_df = pd.read_pickle('Jomas_Pickle/1958-08-11.pkl')\n",
    "unpickled_df"
   ]
  },
  {
   "cell_type": "markdown",
   "metadata": {},
   "source": [
    "## I want to load the pkl file into the notebook and manipulate it: count how many times the artist and song shows up in the dataframe --> that will indicate how many week the song appears in the Billboards Top 100 Chart"
   ]
  }
 ],
 "metadata": {
  "kernelspec": {
   "display_name": "Python 3",
   "language": "python",
   "name": "python3"
  },
  "language_info": {
   "codemirror_mode": {
    "name": "ipython",
    "version": 3
   },
   "file_extension": ".py",
   "mimetype": "text/x-python",
   "name": "python",
   "nbconvert_exporter": "python",
   "pygments_lexer": "ipython3",
   "version": "3.6.3"
  }
 },
 "nbformat": 4,
 "nbformat_minor": 2
}
