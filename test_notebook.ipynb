{
 "cells": [
  {
   "cell_type": "code",
   "execution_count": 1,
   "metadata": {
    "collapsed": true
   },
   "outputs": [],
   "source": [
    "import pandas as pd\n",
    "import spotipy\n",
    "import requests\n",
    "from spotipy.oauth2 import SpotifyClientCredentials"
   ]
  },
  {
   "cell_type": "code",
   "execution_count": 2,
   "metadata": {
    "collapsed": true
   },
   "outputs": [],
   "source": [
    "client_credentials_manager = SpotifyClientCredentials(client_id= '7a7cb46398734551a0d5b04004b3bd60',\n",
    "                           client_secret= 'b0aec9a75c9c4af684005e5a4a4c2118')\n",
    "sp = spotipy.Spotify(client_credentials_manager=client_credentials_manager)"
   ]
  },
  {
   "cell_type": "code",
   "execution_count": 87,
   "metadata": {},
   "outputs": [
    {
     "data": {
      "text/plain": [
       "'7vRriwrloYVaoAe3a9wJHe'"
      ]
     },
     "execution_count": 87,
     "metadata": {},
     "output_type": "execute_result"
    }
   ],
   "source": [
    "search = sp.search(q = 'track:i hate u i love u artist:gnash', type = 'track')\n",
    "search['tracks']['items'][0]['id']"
   ]
  },
  {
   "cell_type": "code",
   "execution_count": 11,
   "metadata": {},
   "outputs": [
    {
     "data": {
      "text/plain": [
       "{'tracks': {'href': 'https://api.spotify.com/v1/search?query=track%3AMamacita+artist%3AThe+Grass+Roots&type=track&offset=0&limit=10',\n",
       "  'items': [],\n",
       "  'limit': 10,\n",
       "  'next': None,\n",
       "  'offset': 0,\n",
       "  'previous': None,\n",
       "  'total': 0}}"
      ]
     },
     "execution_count": 11,
     "metadata": {},
     "output_type": "execute_result"
    }
   ],
   "source": [
    "search"
   ]
  },
  {
   "cell_type": "code",
   "execution_count": 18,
   "metadata": {
    "collapsed": true
   },
   "outputs": [],
   "source": [
    "read_unfound = pd.read_pickle('unfound_songs.pkl')"
   ]
  },
  {
   "cell_type": "code",
   "execution_count": 19,
   "metadata": {},
   "outputs": [
    {
     "data": {
      "text/html": [
       "<div>\n",
       "<style>\n",
       "    .dataframe thead tr:only-child th {\n",
       "        text-align: right;\n",
       "    }\n",
       "\n",
       "    .dataframe thead th {\n",
       "        text-align: left;\n",
       "    }\n",
       "\n",
       "    .dataframe tbody tr th {\n",
       "        vertical-align: top;\n",
       "    }\n",
       "</style>\n",
       "<table border=\"1\" class=\"dataframe\">\n",
       "  <thead>\n",
       "    <tr style=\"text-align: right;\">\n",
       "      <th></th>\n",
       "      <th>0</th>\n",
       "      <th>1</th>\n",
       "      <th>2</th>\n",
       "      <th>3</th>\n",
       "      <th>4</th>\n",
       "      <th>5</th>\n",
       "      <th>6</th>\n",
       "      <th>7</th>\n",
       "      <th>8</th>\n",
       "      <th>9</th>\n",
       "      <th>...</th>\n",
       "      <th>37414</th>\n",
       "      <th>37415</th>\n",
       "      <th>37416</th>\n",
       "      <th>37417</th>\n",
       "      <th>37418</th>\n",
       "      <th>37419</th>\n",
       "      <th>37420</th>\n",
       "      <th>37421</th>\n",
       "      <th>37422</th>\n",
       "      <th>37423</th>\n",
       "    </tr>\n",
       "  </thead>\n",
       "  <tbody>\n",
       "    <tr>\n",
       "      <th>0</th>\n",
       "      <td>{'danceability': 0.0, 'duration': 280.21506, '...</td>\n",
       "      <td>{'danceability': 0.0, 'duration': 191.68608, '...</td>\n",
       "      <td>{'danceability': 0.0, 'duration': 222.92853, '...</td>\n",
       "      <td>{'danceability': 0.0, 'duration': 278.38649, '...</td>\n",
       "      <td>{'danceability': 0.0, 'duration': 89.15546, 'e...</td>\n",
       "      <td>{'danceability': 0.0, 'duration': 255.73832, '...</td>\n",
       "      <td>{'danceability': 0.0, 'duration': 239.59465, '...</td>\n",
       "      <td>{'danceability': 0.0, 'duration': 156.96934, '...</td>\n",
       "      <td>{'danceability': 0.0, 'duration': 197.19791, '...</td>\n",
       "      <td>{'danceability': 0.0, 'duration': 262.5824, 'e...</td>\n",
       "      <td>...</td>\n",
       "      <td>{'danceability': nan, 'duration': nan, 'energy...</td>\n",
       "      <td>{'danceability': nan, 'duration': nan, 'energy...</td>\n",
       "      <td>{'danceability': nan, 'duration': nan, 'energy...</td>\n",
       "      <td>{'danceability': nan, 'duration': nan, 'energy...</td>\n",
       "      <td>{'danceability': nan, 'duration': nan, 'energy...</td>\n",
       "      <td>{'danceability': nan, 'duration': nan, 'energy...</td>\n",
       "      <td>{'danceability': nan, 'duration': nan, 'energy...</td>\n",
       "      <td>{'danceability': nan, 'duration': nan, 'energy...</td>\n",
       "      <td>{'danceability': nan, 'duration': nan, 'energy...</td>\n",
       "      <td>{'danceability': nan, 'duration': nan, 'energy...</td>\n",
       "    </tr>\n",
       "  </tbody>\n",
       "</table>\n",
       "<p>1 rows × 37424 columns</p>\n",
       "</div>"
      ],
      "text/plain": [
       "                                               0      \\\n",
       "0  {'danceability': 0.0, 'duration': 280.21506, '...   \n",
       "\n",
       "                                               1      \\\n",
       "0  {'danceability': 0.0, 'duration': 191.68608, '...   \n",
       "\n",
       "                                               2      \\\n",
       "0  {'danceability': 0.0, 'duration': 222.92853, '...   \n",
       "\n",
       "                                               3      \\\n",
       "0  {'danceability': 0.0, 'duration': 278.38649, '...   \n",
       "\n",
       "                                               4      \\\n",
       "0  {'danceability': 0.0, 'duration': 89.15546, 'e...   \n",
       "\n",
       "                                               5      \\\n",
       "0  {'danceability': 0.0, 'duration': 255.73832, '...   \n",
       "\n",
       "                                               6      \\\n",
       "0  {'danceability': 0.0, 'duration': 239.59465, '...   \n",
       "\n",
       "                                               7      \\\n",
       "0  {'danceability': 0.0, 'duration': 156.96934, '...   \n",
       "\n",
       "                                               8      \\\n",
       "0  {'danceability': 0.0, 'duration': 197.19791, '...   \n",
       "\n",
       "                                               9      \\\n",
       "0  {'danceability': 0.0, 'duration': 262.5824, 'e...   \n",
       "\n",
       "                         ...                          \\\n",
       "0                        ...                           \n",
       "\n",
       "                                               37414  \\\n",
       "0  {'danceability': nan, 'duration': nan, 'energy...   \n",
       "\n",
       "                                               37415  \\\n",
       "0  {'danceability': nan, 'duration': nan, 'energy...   \n",
       "\n",
       "                                               37416  \\\n",
       "0  {'danceability': nan, 'duration': nan, 'energy...   \n",
       "\n",
       "                                               37417  \\\n",
       "0  {'danceability': nan, 'duration': nan, 'energy...   \n",
       "\n",
       "                                               37418  \\\n",
       "0  {'danceability': nan, 'duration': nan, 'energy...   \n",
       "\n",
       "                                               37419  \\\n",
       "0  {'danceability': nan, 'duration': nan, 'energy...   \n",
       "\n",
       "                                               37420  \\\n",
       "0  {'danceability': nan, 'duration': nan, 'energy...   \n",
       "\n",
       "                                               37421  \\\n",
       "0  {'danceability': nan, 'duration': nan, 'energy...   \n",
       "\n",
       "                                               37422  \\\n",
       "0  {'danceability': nan, 'duration': nan, 'energy...   \n",
       "\n",
       "                                               37423  \n",
       "0  {'danceability': nan, 'duration': nan, 'energy...  \n",
       "\n",
       "[1 rows x 37424 columns]"
      ]
     },
     "execution_count": 19,
     "metadata": {},
     "output_type": "execute_result"
    }
   ],
   "source": [
    "pd.concat()"
   ]
  },
  {
   "cell_type": "code",
   "execution_count": null,
   "metadata": {
    "collapsed": true
   },
   "outputs": [],
   "source": []
  }
 ],
 "metadata": {
  "kernelspec": {
   "display_name": "Python 3",
   "language": "python",
   "name": "python3"
  },
  "language_info": {
   "codemirror_mode": {
    "name": "ipython",
    "version": 3
   },
   "file_extension": ".py",
   "mimetype": "text/x-python",
   "name": "python",
   "nbconvert_exporter": "python",
   "pygments_lexer": "ipython3",
   "version": "3.6.3"
  }
 },
 "nbformat": 4,
 "nbformat_minor": 2
}
